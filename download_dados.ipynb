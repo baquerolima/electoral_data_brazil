{
 "cells": [
  {
   "cell_type": "code",
   "execution_count": 1,
   "id": "f9398a4c",
   "metadata": {},
   "outputs": [],
   "source": [
    "import urllib3\n",
    "import json\n",
    "import pandas as pd\n",
    "import zipfile\n",
    "import requests\n",
    "import os"
   ]
  },
  {
   "cell_type": "code",
   "execution_count": 2,
   "id": "d4dda813",
   "metadata": {},
   "outputs": [],
   "source": [
    "def conexao(link):\n",
    "  http = urllib3.PoolManager()\n",
    "  request = http.request('GET', link)\n",
    "  dados = json.loads(request.data.decode('latin1'))\n",
    "  resultado = dados['result']\n",
    "  return resultado\n",
    "\n",
    "def busca_datasets_por_ano(ano):\n",
    "  pacotes = 'https://dadosabertos.tse.jus.br/api/3/action/package_list'\n",
    "  resultado = conexao(link=pacotes)\n",
    "  df = pd.DataFrame(resultado, columns=['Dataset'])\n",
    "  conjunto = df[df.Dataset.str.contains(str(ano))]\n",
    "  datasets = conjunto.Dataset.unique().tolist()\n",
    "  return datasets\n",
    "\n",
    "def cria_links_com_dataset(dataset):\n",
    "  return f'https://dadosabertos.tse.jus.br/api/3/action/package_show?id={dataset}'\n",
    "\n",
    "def filtra_arquivos(link):\n",
    "  if 'fotos' in link:\n",
    "    return False\n",
    "  if 'proposta' in link:\n",
    "    return False\n",
    "  if 'convocacao_mesarios' in link:\n",
    "    return False\n",
    "  if 'pesquisa_eleitoral' in link:\n",
    "    return False\n",
    "  if 'BWEB' in link:\n",
    "    return False\n",
    "  if 'corresp' in link:\n",
    "    return False\n",
    "  if 'rede_social' in link:\n",
    "    return False\n",
    "  return True\n",
    "\n",
    "def busca_arquivos(datasets):\n",
    "  arquivos = []\n",
    "  for dataset in datasets:\n",
    "    link = cria_links_com_dataset(dataset)\n",
    "    resultado = conexao(link=link)\n",
    "    resources = resultado['resources']\n",
    "    for item in resources:\n",
    "      url = item['url']\n",
    "      arquivos.append(url)\n",
    "  lista_arquivos = filter(filtra_arquivos, arquivos)\n",
    "  return lista_arquivos\n",
    "\n",
    "def busca_nome_arquivo(arquivo):\n",
    "  ultima_barra = arquivo.rfind('/')\n",
    "  slice_nome = ultima_barra + 1\n",
    "  return arquivo[slice_nome:]\n",
    "\n",
    "def cria_dicionario(arquivos):\n",
    "  dicionario = {}\n",
    "  for a in arquivos:\n",
    "    nome = busca_nome_arquivo(a)\n",
    "    dicionario[nome] = a\n",
    "  return dicionario\n",
    "\n",
    "def baixa_arquivos(dicionario, ano):\n",
    "  for nome, link in dicionario.items():\n",
    "    resposta = requests.get(link, headers={'User-Agent': 'Mozilla/5.0'})\n",
    "    diretorio = os.path.join(os.getcwd(), 'arquivos', str(ano))\n",
    "    if not os.path.isdir(diretorio):\n",
    "      os.makedirs(diretorio)\n",
    "    arquivo = os.path.join(diretorio, nome)\n",
    "    with open(arquivo, 'wb') as arq:\n",
    "      arq.write(resposta.content)"
   ]
  },
  {
   "cell_type": "code",
   "execution_count": null,
   "id": "ca0ed985",
   "metadata": {},
   "outputs": [
    {
     "name": "stdout",
     "output_type": "stream",
     "text": [
      "De que ano você quer os dados? 2022\n"
     ]
    }
   ],
   "source": [
    "ano = input('De que ano você quer os dados? ')\n",
    "datasets_ano = busca_datasets_por_ano(ano)\n",
    "arquivos = busca_arquivos(datasets_ano)\n",
    "dicionario = cria_dicionario(arquivos)\n",
    "baixa_arquivos(dicionario, ano)"
   ]
  },
  {
   "cell_type": "code",
   "execution_count": null,
   "id": "bcb0ad6c",
   "metadata": {},
   "outputs": [],
   "source": []
  }
 ],
 "metadata": {
  "kernelspec": {
   "display_name": "Python 3 (ipykernel)",
   "language": "python",
   "name": "python3"
  },
  "language_info": {
   "codemirror_mode": {
    "name": "ipython",
    "version": 3
   },
   "file_extension": ".py",
   "mimetype": "text/x-python",
   "name": "python",
   "nbconvert_exporter": "python",
   "pygments_lexer": "ipython3",
   "version": "3.11.2"
  }
 },
 "nbformat": 4,
 "nbformat_minor": 5
}
